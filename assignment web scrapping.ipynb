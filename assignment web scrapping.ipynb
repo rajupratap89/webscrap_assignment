{
 "cells": [
  {
   "cell_type": "code",
   "execution_count": null,
   "id": "f55b9015-b94e-47a9-a46c-e30150858dcb",
   "metadata": {},
   "outputs": [],
   "source": [
    "Q1. What is Web Scraping? Why is it Used? Give three areas where Web Scraping is used to get data."
   ]
  },
  {
   "cell_type": "code",
   "execution_count": null,
   "id": "439f64c9-4e34-4193-b220-f146b91b477a",
   "metadata": {},
   "outputs": [],
   "source": [
    "web scraping is the process of extracting data from website.web scraping is helps to extract data in format and understable form and usabale data.\n",
    "\n",
    "why is it used : 1.Data collection-it is used for business and reseacher vast amount of data.\n",
    "                 2.market research-analysis social media ,customer behaviour.\n",
    "                 3.price comparison-we take example on flipkart and amazon different product price comparison.\n",
    "        \n",
    "Give three areas where Web Scraping is used to get data- 1.E-commerce and price comparison ,flipkart,amazon,myntra\n",
    "                                                         2.social media analysis \n",
    "                                                         3.stock market analysis"
   ]
  },
  {
   "cell_type": "code",
   "execution_count": null,
   "id": "602e6929-c9f5-4588-ba1c-d3e03693cd3c",
   "metadata": {},
   "outputs": [],
   "source": [
    "Q2. What are the different methods used for Web Scraping?"
   ]
  },
  {
   "cell_type": "code",
   "execution_count": null,
   "id": "6137090c-12cd-4949-82e3-a7d517c46859",
   "metadata": {},
   "outputs": [],
   "source": [
    "several method and tool used for web scraping\n",
    "1.API(application programming interface)\n",
    "2.Copy pasting\n",
    "3.HTML parser(like Beautiful soup)\n",
    "4.Data extraction tool-There are several tool data extract from software application without using code."
   ]
  },
  {
   "cell_type": "code",
   "execution_count": null,
   "id": "2a564bc8-c534-4072-8ccf-cbc35f41f66a",
   "metadata": {},
   "outputs": [],
   "source": [
    "Q3. What is Beautiful Soup? Why is it used?"
   ]
  },
  {
   "cell_type": "code",
   "execution_count": null,
   "id": "cdd000fa-bc0a-4954-8d96-03ef18e45d9d",
   "metadata": {},
   "outputs": [],
   "source": [
    "Beautiful soup is python library it is help to extract data.it is used to beautified the code and helpful to extract necessary data.\n",
    "\n",
    "from import bs4 Beautifulsoup "
   ]
  },
  {
   "cell_type": "code",
   "execution_count": null,
   "id": "e3afa441-2b37-402e-838b-3ab952d975e2",
   "metadata": {},
   "outputs": [],
   "source": [
    "Q4. Why is flask used in this Web Scraping project?"
   ]
  },
  {
   "cell_type": "code",
   "execution_count": null,
   "id": "b7539752-d586-44ba-b34a-0198d9abb492",
   "metadata": {},
   "outputs": [],
   "source": [
    "Flask is a popular Python web framework used in web scraping projects\n",
    "1.flexibility-Flask is highly flexible, allowing developers to integrate it with various libraries and tools, including web scraping libraries like BeautifulSoup and request\n",
    "2.Ease of use -\n",
    "3.scalability-\n",
    "4.Extensive Documentation-flask has extensive documentation and large community of developer."
   ]
  }
 ],
 "metadata": {
  "kernelspec": {
   "display_name": "Python 3 (ipykernel)",
   "language": "python",
   "name": "python3"
  },
  "language_info": {
   "codemirror_mode": {
    "name": "ipython",
    "version": 3
   },
   "file_extension": ".py",
   "mimetype": "text/x-python",
   "name": "python",
   "nbconvert_exporter": "python",
   "pygments_lexer": "ipython3",
   "version": "3.10.8"
  }
 },
 "nbformat": 4,
 "nbformat_minor": 5
}
